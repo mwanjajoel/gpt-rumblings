{
 "cells": [
  {
   "cell_type": "code",
   "execution_count": 13,
   "metadata": {},
   "outputs": [],
   "source": [
    "from aitextgen import aitextgen"
   ]
  },
  {
   "cell_type": "code",
   "execution_count": 14,
   "metadata": {},
   "outputs": [
    {
     "name": "stderr",
     "output_type": "stream",
     "text": [
      "Generate config GenerationConfig {\n",
      "  \"bos_token_id\": 50256,\n",
      "  \"eos_token_id\": 50256,\n",
      "  \"transformers_version\": \"4.26.0\"\n",
      "}\n",
      "\n",
      "loading configuration file generation_config.json from cache at aitextgen/models--gpt2/snapshots/e7da7f221d5bf496a48136c0cd264e630fe9fcc8/generation_config.json\n",
      "Generate config GenerationConfig {\n",
      "  \"_from_model_config\": true,\n",
      "  \"bos_token_id\": 50256,\n",
      "  \"eos_token_id\": 50256,\n",
      "  \"transformers_version\": \"4.26.0\"\n",
      "}\n",
      "\n"
     ]
    }
   ],
   "source": [
    "# download, cache and load the 124M GPT-2 small model\n",
    "ai = aitextgen()"
   ]
  },
  {
   "cell_type": "code",
   "execution_count": 15,
   "metadata": {},
   "outputs": [
    {
     "name": "stderr",
     "output_type": "stream",
     "text": [
      "Generate config GenerationConfig {\n",
      "  \"bos_token_id\": 50256,\n",
      "  \"eos_token_id\": 50256,\n",
      "  \"transformers_version\": \"4.26.0\"\n",
      "}\n",
      "\n"
     ]
    },
    {
     "name": "stdout",
     "output_type": "stream",
     "text": [
      "\u001b[1mThe first miracle in the Bible was outside the timing of God, in the sense that it was ahead of time.\u001b[0m It was outside the time of God when God was created. But it was outside of that time, as a result of the other miracles of the Bible that God did for us.\n",
      "\n",
      "In the New Testament, God tells us that Satan was a man who was called to be Pharaoh. That is, Pharaoh was king of a people that was called to be Pharaoh because he was the only man who could take the throne from a person who was not a man. He was called to be Pharaoh because he was the only man who could be king over a people who were also not a man.\n",
      "\n",
      "So the Bible tells us that God came in the future, and he was the only man who could put an end to the world. He was called to be Pharaoh because he was the only man who could take the throne from a person who was not a man, because he was\n"
     ]
    }
   ],
   "source": [
    "# generate text from a prompt\n",
    "ai.generate(n=1, prompt=\"The first miracle in the Bible was outside the timing of God, in the sense that it was ahead of time.\", max_length=200)"
   ]
  }
 ],
 "metadata": {
  "kernelspec": {
   "display_name": "aitextgen-lCjzuLhL",
   "language": "python",
   "name": "python3"
  },
  "language_info": {
   "codemirror_mode": {
    "name": "ipython",
    "version": 3
   },
   "file_extension": ".py",
   "mimetype": "text/x-python",
   "name": "python",
   "nbconvert_exporter": "python",
   "pygments_lexer": "ipython3",
   "version": "3.10.2 (v3.10.2:a58ebcc701, Jan 13 2022, 14:50:16) [Clang 13.0.0 (clang-1300.0.29.30)]"
  },
  "orig_nbformat": 4,
  "vscode": {
   "interpreter": {
    "hash": "bd0d4537128aae094ef2ff19214bb7f4f91d586d002d99939285099b8166850f"
   }
  }
 },
 "nbformat": 4,
 "nbformat_minor": 2
}
